{
 "cells": [
  {
   "cell_type": "markdown",
   "metadata": {},
   "source": [
    "#### 123. Best Time to Buy and Sell Stock III\n",
    "Say you have an array for which the ith element is the price of a given stock on day i.\n",
    "\n",
    "Design an algorithm to find the maximum profit. You may complete at most two transactions.\n",
    "\n",
    "Note: You may not engage in multiple transactions at the same time (i.e., you must sell the stock before you buy again)."
   ]
  },
  {
   "cell_type": "code",
   "execution_count": 24,
   "metadata": {},
   "outputs": [],
   "source": [
    "def maxProfit(prices):\n",
    "    if len(prices) == 0:\n",
    "        return 0\n",
    "    s1 = float(\"-Inf\")\n",
    "    s2 = float(\"-Inf\")\n",
    "    b1 = float(\"-Inf\")\n",
    "    b2 = float(\"-Inf\")\n",
    "\n",
    "    for curp in prices:\n",
    "        s2 = max(b2 + curp, s2)\n",
    "        b2= max(s1 - curp, b2)\n",
    "        s1 = max(b1 + curp, s1)\n",
    "        b1 = max(-curp,b1)\n",
    "            \n",
    "    return max(s1,s2,0)"
   ]
  },
  {
   "cell_type": "markdown",
   "metadata": {},
   "source": [
    "#### 121. Best Time to Buy and Sell Stock\n",
    "Say you have an array for which the ith element is the price of a given stock on day i.\n",
    "\n",
    "If you were only permitted to complete at most one transaction (i.e., buy one and sell one share of the stock), design an algorithm to find the maximum profit.\n",
    "\n",
    "Note that you cannot sell a stock before you buy one."
   ]
  },
  {
   "cell_type": "code",
   "execution_count": 26,
   "metadata": {},
   "outputs": [],
   "source": [
    "def maxProfit(prices):\n",
    "    if len(prices) == 0:\n",
    "        return 0\n",
    "    b = float(\"-Inf\")\n",
    "    s = float(\"-Inf\")\n",
    "    for curp in prices:\n",
    "        b = max(b,- curp)\n",
    "        s = max(s,b + curp)\n",
    "    return max(s,0)"
   ]
  },
  {
   "cell_type": "markdown",
   "metadata": {},
   "source": [
    "#### 122. Best Time to Buy and Sell Stock II\n",
    "Say you have an array prices for which the ith element is the price of a given stock on day i.\n",
    "\n",
    "Design an algorithm to find the maximum profit. You may complete as many transactions as you like (i.e., buy one and sell one share of the stock multiple times).\n",
    "\n",
    "Note: You may not engage in multiple transactions at the same time (i.e., you must sell the stock before you buy again)."
   ]
  },
  {
   "cell_type": "code",
   "execution_count": 29,
   "metadata": {},
   "outputs": [],
   "source": [
    "def maxProfit(prices):\n",
    "    if len(prices) == 0:\n",
    "        return 0 \n",
    "    profit = 0 \n",
    "    for i in range(1,len(prices)):\n",
    "        if prices[i] > prices[i-1]:\n",
    "            profit += prices[i]-prices[i-1]\n",
    "    return profit"
   ]
  },
  {
   "cell_type": "markdown",
   "metadata": {},
   "source": [
    "#### 188. Best Time to Buy and Sell Stock IV\n",
    "Say you have an array for which the i-th element is the price of a given stock on day i.\n",
    "\n",
    "Design an algorithm to find the maximum profit. You may complete at most k transactions.\n",
    "\n",
    "Note:\n",
    "You may not engage in multiple transactions at the same time (ie, you must sell the stock before you buy again)."
   ]
  },
  {
   "cell_type": "code",
   "execution_count": 108,
   "metadata": {},
   "outputs": [],
   "source": [
    "def maxProfit(prices,k):\n",
    "    if len(prices) == 0:\n",
    "        return 0\n",
    "    ## 2k* n array, then update like previous stock III \n",
    "    #    p0  p1 p2...\n",
    "    #b1\n",
    "    #s1\n",
    "    #b2\n",
    "    #s2\n",
    "    if k == 0:\n",
    "        return 0\n",
    "    # these two lines are very important, othterwise time exceeds\n",
    "    if 2*k >= len(prices): \n",
    "        return sum(max(0, prices[i]-prices[i-1]) for i in range(1, len(prices)))\n",
    "    bals = [float('-Inf') for _ in range(2*k)]\n",
    "    for curp in prices:\n",
    "        prev_b = 0\n",
    "        for i, b in enumerate(bals):\n",
    "            if (i % 2) == 0:\n",
    "                bals[i] = max(prev_b - curp, b)\n",
    "            else:\n",
    "                bals[i] = max(prev_b + curp, b)\n",
    "            prev_b = bals[i]\n",
    "    return max(bals)"
   ]
  },
  {
   "cell_type": "code",
   "execution_count": null,
   "metadata": {},
   "outputs": [],
   "source": [
    "def maxProfit(k,prices):\n",
    "    if 2*k >= len(prices): \n",
    "        return sum(max(0, prices[i]-prices[i-1]) for i in range(1, len(prices)))\n",
    "        \n",
    "    pnl = [0]*len(prices)\n",
    "    for _ in range(k):\n",
    "        val = 0\n",
    "        for i in range(1, len(pnl)): \n",
    "            val = max(pnl[i], val + prices[i] - prices[i-1]) \n",
    "            pnl[i] = max(pnl[i-1], val)\n",
    "    return pnl[-1]"
   ]
  },
  {
   "cell_type": "markdown",
   "metadata": {},
   "source": [
    "#### 309. Best Time to Buy and Sell Stock with Cooldown\n",
    "Say you have an array for which the ith element is the price of a given stock on day i.\n",
    "\n",
    "Design an algorithm to find the maximum profit. You may complete as many transactions as you like (ie, buy one and sell one share of the stock multiple times) with the following restrictions:\n",
    "\n",
    "You may not engage in multiple transactions at the same time (ie, you must sell the stock before you buy again).\n",
    "After you sell your stock, you cannot buy stock on next day. (ie, cooldown 1 day)"
   ]
  },
  {
   "cell_type": "code",
   "execution_count": null,
   "metadata": {},
   "outputs": [],
   "source": [
    "def maxProfit(prices):\n",
    "    "
   ]
  },
  {
   "cell_type": "markdown",
   "metadata": {},
   "source": [
    "#### 714 Your are given an array of integers prices, for which the i-th element is the price of a given stock on day i; and a non-negative integer fee representing a transaction fee.\n",
    "\n",
    "You may complete as many transactions as you like, but you need to pay the transaction fee for each transaction. You may not buy more than 1 share of a stock at a time (ie. you must sell the stock share before you buy again.)\n",
    "\n",
    "Return the maximum profit you can make.14. Best Time to Buy and Sell Stock with Transaction Fee\n"
   ]
  },
  {
   "cell_type": "code",
   "execution_count": 130,
   "metadata": {},
   "outputs": [],
   "source": [
    "def maxProfit(prices,fee):\n",
    "    b2 = 0\n",
    "    b1 = -prices[0]-fee\n",
    "    for i in range(1, len(prices)):\n",
    "        b2 = max(b2, b1 + prices[i] ) \n",
    "        b1 = max(b1, b2 - prices[i]-fee)\n",
    "    return b2"
   ]
  },
  {
   "cell_type": "code",
   "execution_count": 131,
   "metadata": {},
   "outputs": [
    {
     "data": {
      "text/plain": [
       "8"
      ]
     },
     "execution_count": 131,
     "metadata": {},
     "output_type": "execute_result"
    }
   ],
   "source": [
    "maxProfit([1,3,2,8,4,9],2)"
   ]
  },
  {
   "cell_type": "code",
   "execution_count": null,
   "metadata": {},
   "outputs": [],
   "source": []
  }
 ],
 "metadata": {
  "kernelspec": {
   "display_name": "Python 3",
   "language": "python",
   "name": "python3"
  },
  "language_info": {
   "codemirror_mode": {
    "name": "ipython",
    "version": 3
   },
   "file_extension": ".py",
   "mimetype": "text/x-python",
   "name": "python",
   "nbconvert_exporter": "python",
   "pygments_lexer": "ipython3",
   "version": "3.6.4"
  }
 },
 "nbformat": 4,
 "nbformat_minor": 2
}
