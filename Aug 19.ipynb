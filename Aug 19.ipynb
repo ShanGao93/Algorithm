{
 "cells": [
  {
   "cell_type": "markdown",
   "metadata": {},
   "source": [
    "#### 680. Valid Palindrome II\n",
    "\n",
    "Given a non-empty string s, you may delete at most one character. Judge whether you can make it a palindrome.\n",
    "\n"
   ]
  },
  {
   "cell_type": "code",
   "execution_count": 1,
   "metadata": {},
   "outputs": [],
   "source": [
    "# time limmit exceeded\n",
    "def validPalindrome(s):\n",
    "    for i in range(len(s)):\n",
    "        t = s[:i] + s [i+1:]\n",
    "        if t == t[::-1]:\n",
    "            return True\n",
    "    return s == s[::-1]"
   ]
  },
  {
   "cell_type": "code",
   "execution_count": null,
   "metadata": {},
   "outputs": [],
   "source": [
    "def validPalindrome(s):\n",
    "    isPalindrome = lambda x : x == x[::-1]\n",
    "    left = 0\n",
    "    right = len(s) - 1\n",
    "    while left <= right:\n",
    "        if s[left] == s[right]:\n",
    "            left += 1\n",
    "            right -= 1\n",
    "        else:\n",
    "            return isPalindrome(s[left + 1 : right + 1]) or isPalindrome(s[left: right])\n",
    "    return True"
   ]
  }
 ],
 "metadata": {
  "kernelspec": {
   "display_name": "Python 3",
   "language": "python",
   "name": "python3"
  },
  "language_info": {
   "codemirror_mode": {
    "name": "ipython",
    "version": 3
   },
   "file_extension": ".py",
   "mimetype": "text/x-python",
   "name": "python",
   "nbconvert_exporter": "python",
   "pygments_lexer": "ipython3",
   "version": "3.6.4"
  }
 },
 "nbformat": 4,
 "nbformat_minor": 2
}
