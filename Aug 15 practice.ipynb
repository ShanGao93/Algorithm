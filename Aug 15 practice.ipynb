{
 "cells": [
  {
   "cell_type": "markdown",
   "metadata": {},
   "source": [
    "#### 123. Best Time to Buy and Sell Stock III\n",
    "Say you have an array for which the ith element is the price of a given stock on day i.\n",
    "\n",
    "Design an algorithm to find the maximum profit. You may complete at most two transactions.\n",
    "\n",
    "Note: You may not engage in multiple transactions at the same time (i.e., you must sell the stock before you buy again)."
   ]
  },
  {
   "cell_type": "code",
   "execution_count": 24,
   "metadata": {},
   "outputs": [],
   "source": [
    "def maxProfit(prices):\n",
    "    if len(prices) == 0:\n",
    "        return 0\n",
    "    s1 = float(\"-Inf\")\n",
    "    s2 = float(\"-Inf\")\n",
    "    b1 = float(\"-Inf\")\n",
    "    b2 = float(\"-Inf\")\n",
    "\n",
    "    for n,curp in enumerate(prices):\n",
    "        s2 = max(b2 + curp, s2)\n",
    "        b2= max(s1 - curp, b2)\n",
    "        s1 = max(b1 + curp, s1)\n",
    "        b1 = max(-curp,b1)\n",
    "            \n",
    "    return max(max(s2,s1),0)"
   ]
  }
 ],
 "metadata": {
  "kernelspec": {
   "display_name": "Python 3",
   "language": "python",
   "name": "python3"
  },
  "language_info": {
   "codemirror_mode": {
    "name": "ipython",
    "version": 3
   },
   "file_extension": ".py",
   "mimetype": "text/x-python",
   "name": "python",
   "nbconvert_exporter": "python",
   "pygments_lexer": "ipython3",
   "version": "3.6.4"
  }
 },
 "nbformat": 4,
 "nbformat_minor": 2
}
