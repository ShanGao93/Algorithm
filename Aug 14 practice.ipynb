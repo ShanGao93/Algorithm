{
 "cells": [
  {
   "cell_type": "markdown",
   "metadata": {},
   "source": [
    "#### 20. Valid Parentheses\n",
    "Given a string containing just the characters '(', ')', '{', '}', '[' and ']', determine if the input string is valid.\n",
    "\n",
    "An input string is valid if:\n",
    "\n",
    "Open brackets must be closed by the same type of brackets.\n",
    "Open brackets must be closed in the correct order.\n",
    "Note that an empty string is also considered valid."
   ]
  },
  {
   "cell_type": "code",
   "execution_count": 1,
   "metadata": {},
   "outputs": [],
   "source": [
    "def validString(s):\n",
    "    while \"()\" in s or \"[]\" in s or \"{}\" in s:\n",
    "        s = s.repalce(\"()\",\"\").replace(\"[]\",\"\").replace(\"{}\",\"\")\n",
    "    return s == \"\""
   ]
  },
  {
   "cell_type": "code",
   "execution_count": null,
   "metadata": {},
   "outputs": [],
   "source": [
    "# Solution using Stack\n",
    "# Waiting..."
   ]
  },
  {
   "cell_type": "markdown",
   "metadata": {},
   "source": [
    "#### 125. Valid Palindrome\n",
    "Given a string, determine if it is a palindrome, considering only alphanumeric characters and ignoring cases."
   ]
  },
  {
   "cell_type": "code",
   "execution_count": 2,
   "metadata": {},
   "outputs": [],
   "source": [
    "def isPalindrome(s):\n",
    "    left = 0\n",
    "    right = len(s) - 1\n",
    "    \n",
    "    while left < right:\n",
    "        # need to add this left < right condition because index may be out of range \n",
    "        while not s[left].isalnum() and left < right:\n",
    "            left += 1\n",
    "        while not s[right].isalnum() and left < right:\n",
    "            right -= 1\n",
    "        if s[left] != s[right]:\n",
    "            return False\n",
    "        left += 1\n",
    "        right -= 1\n",
    "    return True"
   ]
  },
  {
   "cell_type": "markdown",
   "metadata": {},
   "source": [
    "#### 1. Two Sum\n",
    "Given an array of integers, return indices of the two numbers such that they add up to a specific target.\n",
    "\n",
    "You may assume that each input would have exactly one solution, and you may not use the same element twice."
   ]
  },
  {
   "cell_type": "code",
   "execution_count": 5,
   "metadata": {},
   "outputs": [],
   "source": [
    "def twoSum(nums,target):\n",
    "    dic = {}\n",
    "    for i,inum in enumerate(nums):\n",
    "        jnum = target - inum\n",
    "        # if can't find jnum in dic, keep adding num and indices\n",
    "        if jnum not in dic:\n",
    "            dic[inum] = i\n",
    "        else:\n",
    "            return(dic[jnum],i)"
   ]
  },
  {
   "cell_type": "markdown",
   "metadata": {},
   "source": [
    "#### 551. Student Attendance Record I\n",
    "You are given a string representing an attendance record for a student. The record only contains the following three characters:\n",
    "'A' : Absent.\n",
    "'L' : Late.\n",
    "'P' : Present.\n",
    "A student could be rewarded if his attendance record doesn't contain more than one 'A' (absent) or more than two continuous 'L' (late)."
   ]
  },
  {
   "cell_type": "code",
   "execution_count": null,
   "metadata": {},
   "outputs": [],
   "source": [
    "def studentRecord(s):\n",
    "    return s.count(\"A\") <= 2 and \"LLL\" not in s"
   ]
  },
  {
   "cell_type": "code",
   "execution_count": 6,
   "metadata": {},
   "outputs": [],
   "source": [
    "# Waiting for a better solution\n",
    "# "
   ]
  },
  {
   "cell_type": "markdown",
   "metadata": {},
   "source": [
    "#### 69 Implement Sqrt(x)\n",
    "return int(sqrt(x))"
   ]
  },
  {
   "cell_type": "code",
   "execution_count": 16,
   "metadata": {},
   "outputs": [],
   "source": [
    "def mySQRT(x):\n",
    "        if x < 2:\n",
    "            return x\n",
    "        # use binary search \n",
    "        left = 2\n",
    "        right = x // 2\n",
    "        \n",
    "        while left <= right:\n",
    "            ### pinot not = (left + right)//2 to prevent overflow\n",
    "            pivot = left + (right - left) // 2\n",
    "            num = pivot * pivot\n",
    "            if num > x:\n",
    "                right = pivot -1\n",
    "                print(right)\n",
    "            elif num < x:\n",
    "                left = pivot + 1\n",
    "            else:\n",
    "                return pivot\n",
    "            \n",
    "        return right"
   ]
  },
  {
   "cell_type": "markdown",
   "metadata": {},
   "source": [
    "#### 136. Single Number\n",
    "Given a non-empty array of integers, every element appears twice except for one. Find that single one."
   ]
  },
  {
   "cell_type": "code",
   "execution_count": 22,
   "metadata": {},
   "outputs": [],
   "source": [
    "import collections\n",
    "def singleNumer(nums):\n",
    "    ao = collections.Counter(nums)\n",
    "    return min(ao,key = ao.get)\n",
    "\n",
    "def singleNumer(nums):\n",
    "    ## 0 XOR anyting = anything\n",
    "    return reduce(lambda x,y: x^y, nums)"
   ]
  },
  {
   "cell_type": "markdown",
   "metadata": {},
   "source": [
    "#### 35. Search Insert Position\n",
    "Given a sorted array and a target value, return the index if the target is found. If not, return the index where it would be if it were inserted in order.\n",
    "You may assume no duplicates in the array."
   ]
  },
  {
   "cell_type": "code",
   "execution_count": 32,
   "metadata": {},
   "outputs": [],
   "source": [
    "def searchInsert(nums,target):\n",
    "    left = 0\n",
    "    right = len(nums) - 1\n",
    "    while left <= right:\n",
    "        pivot = (left + right)//2\n",
    "        print('pivot',pivot)\n",
    "        if target == nums[pivot]:\n",
    "            return pivot\n",
    "        elif target < nums[pivot]:\n",
    "            right = right -1\n",
    "            print('right',right)\n",
    "        else:\n",
    "            left = left + 1\n",
    "            print('left',left)\n",
    "    return left"
   ]
  },
  {
   "cell_type": "code",
   "execution_count": 33,
   "metadata": {},
   "outputs": [
    {
     "name": "stdout",
     "output_type": "stream",
     "text": [
      "pivot 1\n",
      "right 2\n",
      "pivot 1\n",
      "right 1\n",
      "pivot 0\n",
      "left 1\n",
      "pivot 1\n",
      "right 0\n"
     ]
    },
    {
     "data": {
      "text/plain": [
       "1"
      ]
     },
     "execution_count": 33,
     "metadata": {},
     "output_type": "execute_result"
    }
   ],
   "source": [
    "searchInsert([1,3,5,6],2)"
   ]
  },
  {
   "cell_type": "code",
   "execution_count": null,
   "metadata": {},
   "outputs": [],
   "source": []
  }
 ],
 "metadata": {
  "kernelspec": {
   "display_name": "Python 3",
   "language": "python",
   "name": "python3"
  },
  "language_info": {
   "codemirror_mode": {
    "name": "ipython",
    "version": 3
   },
   "file_extension": ".py",
   "mimetype": "text/x-python",
   "name": "python",
   "nbconvert_exporter": "python",
   "pygments_lexer": "ipython3",
   "version": "3.6.4"
  }
 },
 "nbformat": 4,
 "nbformat_minor": 2
}
