{
 "cells": [
  {
   "cell_type": "markdown",
   "metadata": {},
   "source": [
    "#### 123. Best Time to Buy and Sell Stock III\n",
    "Say you have an array for which the ith element is the price of a given stock on day i.\n",
    "\n",
    "Design an algorithm to find the maximum profit. You may complete at most two transactions.\n",
    "\n",
    "Note: You may not engage in multiple transactions at the same time (i.e., you must sell the stock before you buy again)."
   ]
  },
  {
   "cell_type": "code",
   "execution_count": 24,
   "metadata": {},
   "outputs": [],
   "source": [
    "def maxProfit(prices):\n",
    "    if len(prices) == 0:\n",
    "        return 0\n",
    "    s1 = float(\"-Inf\")\n",
    "    s2 = float(\"-Inf\")\n",
    "    b1 = float(\"-Inf\")\n",
    "    b2 = float(\"-Inf\")\n",
    "\n",
    "    for curp in prices:\n",
    "        s2 = max(b2 + curp, s2)\n",
    "        b2= max(s1 - curp, b2)\n",
    "        s1 = max(b1 + curp, s1)\n",
    "        b1 = max(-curp,b1)\n",
    "            \n",
    "    return max(s1,s2,0)"
   ]
  },
  {
   "cell_type": "markdown",
   "metadata": {},
   "source": [
    "#### 121. Best Time to Buy and Sell Stock\n",
    "Say you have an array for which the ith element is the price of a given stock on day i.\n",
    "\n",
    "If you were only permitted to complete at most one transaction (i.e., buy one and sell one share of the stock), design an algorithm to find the maximum profit.\n",
    "\n",
    "Note that you cannot sell a stock before you buy one."
   ]
  },
  {
   "cell_type": "code",
   "execution_count": 26,
   "metadata": {},
   "outputs": [],
   "source": [
    "def maxProfit(prices):\n",
    "    if len(prices) == 0:\n",
    "        return 0\n",
    "    b = float(\"-Inf\")\n",
    "    s = float(\"-Inf\")\n",
    "    for curp in prices:\n",
    "        b = max(b,- curp)\n",
    "        s = max(s,b + curp)\n",
    "    return max(s,0)"
   ]
  },
  {
   "cell_type": "markdown",
   "metadata": {},
   "source": [
    "#### 122. Best Time to Buy and Sell Stock II\n",
    "Say you have an array prices for which the ith element is the price of a given stock on day i.\n",
    "\n",
    "Design an algorithm to find the maximum profit. You may complete as many transactions as you like (i.e., buy one and sell one share of the stock multiple times).\n",
    "\n",
    "Note: You may not engage in multiple transactions at the same time (i.e., you must sell the stock before you buy again)."
   ]
  },
  {
   "cell_type": "code",
   "execution_count": 29,
   "metadata": {},
   "outputs": [],
   "source": [
    "def maxProfit(prices):\n",
    "    if len(prices) == 0:\n",
    "        return 0 \n",
    "    profit = 0 \n",
    "    for i in range(1,len(prices)):\n",
    "        if prices[i] > prices[i-1]:\n",
    "            profit += prices[i]-prices[i-1]\n",
    "    return profit"
   ]
  },
  {
   "cell_type": "code",
   "execution_count": null,
   "metadata": {},
   "outputs": [],
   "source": []
  }
 ],
 "metadata": {
  "kernelspec": {
   "display_name": "Python 3",
   "language": "python",
   "name": "python3"
  },
  "language_info": {
   "codemirror_mode": {
    "name": "ipython",
    "version": 3
   },
   "file_extension": ".py",
   "mimetype": "text/x-python",
   "name": "python",
   "nbconvert_exporter": "python",
   "pygments_lexer": "ipython3",
   "version": "3.6.4"
  }
 },
 "nbformat": 4,
 "nbformat_minor": 2
}
